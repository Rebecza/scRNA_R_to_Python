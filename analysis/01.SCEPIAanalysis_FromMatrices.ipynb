{
 "cells": [
  {
   "cell_type": "code",
   "execution_count": null,
   "metadata": {},
   "outputs": [],
   "source": [
    "import numpy as np\n",
    "import pandas as pd\n",
    "import scanpy as sc\n",
    "import seaborn as sns\n",
    "import scipy.io\n",
    "from sklearn.metrics import confusion_matrix\n",
    "import anndata as ad\n",
    "import re\n",
    "from scepia.sc import (\n",
    "    infer_motifs, \n",
    "    plot,\n",
    "    ScepiaDataset\n",
    ")\n",
    "\n",
    "%matplotlib inline\n",
    "\n",
    "sc.settings.verbosity = 3\n",
    "sc.logging.print_versions()\n",
    "sc.set_figure_params(dpi=150)\n",
    "\n",
    "work_dir = \"/path_to_working_directory/\" "
   ]
  },
  {
   "cell_type": "markdown",
   "metadata": {},
   "source": [
    "#### Data locations & Other parameters"
   ]
  },
  {
   "cell_type": "code",
   "execution_count": null,
   "metadata": {},
   "outputs": [],
   "source": [
    "## Data locations ##\n",
    "raw_spliced_path = \"path_to_data/seurat_sf_counts.mtx\"\n",
    "features_path = \"path_to_data/sf_genes.tsv\"\n",
    "barcodes_path = \"path_to_data/sf_barcodes.tsv\"\n",
    "scaled_spliced_path = \"path_to_data/seurat_integrated_scaled_counts.csv\"\n",
    "metadata_path = \"path_to_data/seurat_metadata.csv\"\n",
    "#HVG_path = \"path_to_data/seurat_HVG.csv\"\n",
    "umap_path = \"path_to_data/seurat_umap_embedding.csv\"\n",
    "\n",
    "## Parameters to set ##\n",
    "pc_set = 20\n",
    "cluster_ident = \"cluster_annotation\""
   ]
  },
  {
   "cell_type": "markdown",
   "metadata": {},
   "source": [
    "#### Loading data"
   ]
  },
  {
   "cell_type": "code",
   "execution_count": null,
   "metadata": {},
   "outputs": [],
   "source": [
    "raw_spliced = scipy.io.mmread(raw_spliced_path)\n",
    "scaled_spliced = np.asmatrix(pd.read_csv(scaled_spliced_path, index_col = 0))\n",
    "metadata = pd.read_csv(metadata_path, index_col = 0)\n",
    "umap_embedding = np.asmatrix(pd.read_csv(umap_path, index_col = 0))"
   ]
  },
  {
   "cell_type": "code",
   "execution_count": null,
   "metadata": {},
   "outputs": [],
   "source": [
    "## Edits to make adata.var matrix\n",
    "barcodedata = pd.read_csv(barcodes_path, sep = \"\\t\", header = None)[0].to_list()\n",
    "featuredata = pd.read_csv(features_path, sep = \"\\t\", header = None)[0].to_list()\n",
    "featuredata = pd.DataFrame(featuredata, index = featuredata)\n",
    "featuredata.columns = ['gene']"
   ]
  },
  {
   "cell_type": "markdown",
   "metadata": {},
   "source": [
    "## Create adata object from the Seurat object\n",
    "First create a adata object with the raw count matrix of the Seurat object (perform normalization after), or directly use the normalized matrix from the Seurat object (this is the matrix without scaling)."
   ]
  },
  {
   "cell_type": "code",
   "execution_count": null,
   "metadata": {},
   "outputs": [],
   "source": [
    "## Building the adata object, matrices from Seurat need Transposing before adding.\n",
    "adata = ad.AnnData(X = raw_spliced.todense().T,\n",
    "                   obs = metadata,\n",
    "                   var = featuredata\n",
    "                  )\n",
    "sc.pp.normalize_per_cell(adata, counts_per_cell_after=1e4)\n",
    "sc.pp.log1p(adata)\n",
    "adata.raw = adata.copy()\n",
    "adata.obsm[\"X_umap\"] = umap_embedding"
   ]
  },
  {
   "cell_type": "markdown",
   "metadata": {},
   "source": [
    "## Update adata with scaled data filtered on genes of interest\n",
    "Since we are building from an Seurat object with integrated assay, this assay already consists of a subselection of HVG genes that were overlapping between the integrated datasets. \n",
    "\n",
    "Therefore the HVG in this case is the index of the scaled integrated dataset."
   ]
  },
  {
   "cell_type": "code",
   "execution_count": null,
   "metadata": {},
   "outputs": [],
   "source": [
    "adata.obs = adata.obs.astype(str)\n",
    "HVG = pd.read_csv(scaled_spliced_path, index_col = 0).index\n",
    "#adata.var_names_make_unique()"
   ]
  },
  {
   "cell_type": "code",
   "execution_count": null,
   "metadata": {},
   "outputs": [],
   "source": [
    "## Generate dispersions_norm and highly_variable parameters, storing information on HVG selected in Seurat.\n",
    "### Integrated Seurat datasets are already filtered for HVG! ###\n",
    "adata.var['dispersions_norm'] = 0\n",
    "adata.var['highly_variable'] = 0\n",
    "adata.var['highly_variable'][adata.var['gene'].isin(HVG)] = 1\n",
    "adata.var.head()"
   ]
  },
  {
   "cell_type": "markdown",
   "metadata": {},
   "source": [
    "#### Filter dataset on genes of interest (HVG)"
   ]
  },
  {
   "cell_type": "code",
   "execution_count": null,
   "metadata": {},
   "outputs": [],
   "source": [
    "adata = adata[:,HVG]\n",
    "adata.X = scaled_spliced.T"
   ]
  },
  {
   "cell_type": "code",
   "execution_count": null,
   "metadata": {},
   "outputs": [],
   "source": [
    "## Checking the structure of the data object\n",
    "adata.var.shape"
   ]
  },
  {
   "cell_type": "markdown",
   "metadata": {},
   "source": [
    "#### Run neighbors selection "
   ]
  },
  {
   "cell_type": "code",
   "execution_count": null,
   "metadata": {},
   "outputs": [],
   "source": [
    "### Integrated Seurat datasets are already filtered for HVG! ###\n",
    "## Filter adata on HVG\n",
    "#adata = adata[:, adata.var['highly_variable']]"
   ]
  },
  {
   "cell_type": "code",
   "execution_count": null,
   "metadata": {},
   "outputs": [],
   "source": [
    "## SCEPIA: louvain clustering, n_neighbors in Seurat = 20\n",
    "## Rerun neighbor selection\n",
    "sc.pp.neighbors(adata, n_neighbors = 20, n_pcs= pc_set)\n",
    "# sc.tl.louvain(adata)"
   ]
  },
  {
   "cell_type": "code",
   "execution_count": null,
   "metadata": {},
   "outputs": [],
   "source": [
    "## Seurat objects may contain information on HVG selection, \n",
    "## store these variables from your Seurat object and save them as follows:\n",
    "#adata.var['highly_variable'] = adata.var['vst.variable']\n",
    "#adata.var['dispersions_norm'] = adata.var['vst.variance.standardized']\n",
    "adata.obs['louvain'] = adata.obs[cluster_ident]\n",
    "adata"
   ]
  },
  {
   "cell_type": "markdown",
   "metadata": {},
   "source": [
    "#### Rename clusters"
   ]
  },
  {
   "cell_type": "code",
   "execution_count": null,
   "metadata": {},
   "outputs": [],
   "source": [
    "# new_cluster_names = ['']\n",
    "# adata.rename_categories('louvain', new_cluster_names)\n",
    "# adata.obs['cluster_annotation'] = adata.obs['louvain']"
   ]
  },
  {
   "cell_type": "code",
   "execution_count": null,
   "metadata": {},
   "outputs": [],
   "source": [
    "adata.obs['timepoint'] = pd.Categorical(adata.obs['timepoint'], categories = [\"5W\", \"6W\", \"6.5W\",\"7W\", \"9W\", \"10W\", \"13W\", \"15W\", \"17W\", \"20W\", \"22W\", \"23W\", \"24W\", \"25W\"], ordered = True)"
   ]
  },
  {
   "cell_type": "code",
   "execution_count": null,
   "metadata": {},
   "outputs": [],
   "source": [
    "sc.pl.umap(adata, color = 'louvain')"
   ]
  },
  {
   "cell_type": "code",
   "execution_count": null,
   "metadata": {},
   "outputs": [],
   "source": [
    "sc.pl.umap(adata, color = ['cluster_annotation'])"
   ]
  },
  {
   "cell_type": "code",
   "execution_count": null,
   "metadata": {},
   "outputs": [],
   "source": [
    "sc.pl.umap(adata, color = ['NKX2-5','TNNT2'])"
   ]
  },
  {
   "cell_type": "markdown",
   "metadata": {},
   "source": [
    "#### Run SCEPIA analysis"
   ]
  },
  {
   "cell_type": "code",
   "execution_count": null,
   "metadata": {},
   "outputs": [],
   "source": [
    "## Had to place a soft link of both the ENCODE.H3K27ac.human as well as Genome hg38 folder, in the current working dir.\n",
    "# sd = ScepiaDataset(\"ENCODE.H3K27ac.human\")"
   ]
  },
  {
   "cell_type": "code",
   "execution_count": null,
   "metadata": {},
   "outputs": [],
   "source": [
    "## Genome hg38 needed for ENCODE.H3K27ac.human\n",
    "#import genomepy\n",
    "#genomepy.install_genome(\"hg8\")"
   ]
  },
  {
   "cell_type": "code",
   "execution_count": null,
   "metadata": {
    "scrolled": false
   },
   "outputs": [],
   "source": [
    "infer_motifs(adata, dataset=\"ENCODE.H3K27ac.human\", \n",
    "             n_top_genes=4000, \n",
    "             min_annotated = 1) #, \n",
    "             #max_cell_types = 100\n",
    "             #)"
   ]
  },
  {
   "cell_type": "code",
   "execution_count": null,
   "metadata": {},
   "outputs": [],
   "source": [
    "sc.pl.umap(adata, color=\"cell_annotation\")"
   ]
  },
  {
   "cell_type": "code",
   "execution_count": null,
   "metadata": {},
   "outputs": [],
   "source": [
    "sc.pl.umap(adata, color=\"cluster_annotation\")"
   ]
  },
  {
   "cell_type": "code",
   "execution_count": null,
   "metadata": {},
   "outputs": [],
   "source": [
    "labels = list(set(np.hstack((adata.obs[\"louvain\"].astype(str).unique(), adata.obs[\"cell_annotation\"].astype(str).unique()))))\n",
    "\n",
    "cnf_matrix = pd.DataFrame(confusion_matrix(adata.obs[\"louvain\"], adata.obs[\"cell_annotation\"], labels=labels), index=labels, columns=labels)\n",
    "cnf_matrix = cnf_matrix.loc[adata.obs[\"louvain\"].astype(str).unique(), adata.obs[\"cell_annotation\"].astype(str).unique()]\n",
    "cnf_matrix = cnf_matrix.div(cnf_matrix.sum(1), axis=0)\n",
    "cm = sns.clustermap(cnf_matrix.T, cmap=\"Reds\", figsize=(12.5,12), yticklabels=True)"
   ]
  },
  {
   "cell_type": "code",
   "execution_count": null,
   "metadata": {},
   "outputs": [],
   "source": [
    "adata.uns[\"scepia\"][\"correlation\"].sort_values(\"p_adj\").head(10)"
   ]
  },
  {
   "cell_type": "code",
   "execution_count": null,
   "metadata": {},
   "outputs": [],
   "source": [
    "ax = plot(adata, n_anno=50)"
   ]
  },
  {
   "cell_type": "markdown",
   "metadata": {},
   "source": [
    "## Subset correlation table on significant hits"
   ]
  },
  {
   "cell_type": "code",
   "execution_count": null,
   "metadata": {},
   "outputs": [],
   "source": [
    "## Run for the significant hits from SCEPIA, the top per cluster:\n",
    "FDR = 0.1\n",
    "#p_sig = 0.05\n",
    "\n",
    "column_names = ['motif','motif_activity','factor','abs_correlation','correlation','p_adj']\n",
    "#selected_columns = ['motif','correlation','pval','p_adj']\n",
    "selected_columns = ['motif','correlation','abs_correlation','pval','p_adj']\n",
    "cluster_top = pd.DataFrame()\n",
    "\n",
    "# Make a table with the significant scepia results\n",
    "tmp = adata.uns['scepia']['correlation'][selected_columns]\n",
    "tmp = tmp.sort_values('p_adj')\n",
    "tmp = tmp[tmp['p_adj'] <= FDR]\n",
    "#tmp = tmp[tmp['pval'] <= p_sig]\n",
    "tmp = tmp[~tmp.index.duplicated(keep='first')]\n",
    "tmp['factor'] = tmp.index\n",
    "\n",
    "# ! Consider sorting on abs_correlation and then selecting first of duplicates\n",
    "tmp.head()"
   ]
  },
  {
   "cell_type": "code",
   "execution_count": null,
   "metadata": {},
   "outputs": [],
   "source": [
    "sc.pl.umap(adata, color=\"seurat_clusters\", legend_loc = 'on data')"
   ]
  },
  {
   "cell_type": "code",
   "execution_count": null,
   "metadata": {},
   "outputs": [],
   "source": [
    "sc.pl.umap(adata, color=\"louvain\", legend_loc = 'on data')"
   ]
  },
  {
   "cell_type": "code",
   "execution_count": null,
   "metadata": {},
   "outputs": [],
   "source": [
    "adata.write('object.scepia.h5ad')"
   ]
  },
  {
   "cell_type": "code",
   "execution_count": null,
   "metadata": {},
   "outputs": [],
   "source": [
    "adata.raw[1:10,1:10]"
   ]
  }
 ],
 "metadata": {
  "kernelspec": {
   "display_name": "Python [conda env:py_scepia_new]",
   "language": "python",
   "name": "conda-env-py_scepia_new-py"
  },
  "language_info": {
   "codemirror_mode": {
    "name": "ipython",
    "version": 3
   },
   "file_extension": ".py",
   "mimetype": "text/x-python",
   "name": "python",
   "nbconvert_exporter": "python",
   "pygments_lexer": "ipython3",
   "version": "3.9.6"
  }
 },
 "nbformat": 4,
 "nbformat_minor": 4
}
